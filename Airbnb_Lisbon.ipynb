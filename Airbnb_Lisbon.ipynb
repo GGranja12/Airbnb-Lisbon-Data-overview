{
 "cells": [
  {
   "cell_type": "markdown",
   "id": "20bd3258",
   "metadata": {},
   "source": [
    "![Airbnb_logo](Airbnb_logo.png)"
   ]
  },
  {
   "cell_type": "markdown",
   "id": "65092321",
   "metadata": {},
   "source": [
    "<h1 style=\"color: #FF6B81;\">Airbnb - Lisbon listings overview</h1>"
   ]
  },
  {
   "cell_type": "markdown",
   "id": "7813165d",
   "metadata": {},
   "source": [
    "<h2 style=\"color: #FF6B81;\">Importing Libraries</h2>"
   ]
  },
  {
   "cell_type": "code",
   "execution_count": 74,
   "id": "e682116d-4203-4773-8b7c-8c4527ab3411",
   "metadata": {
    "tags": []
   },
   "outputs": [],
   "source": [
    "import pandas as pd \n",
    "import numpy as np \n",
    "\n",
    "import matplotlib.pyplot as plt\n",
    "import seaborn as sns\n",
    "\n",
    "from scipy.stats import chi2_contingency\n",
    "from scipy.stats.contingency import association"
   ]
  },
  {
   "cell_type": "code",
   "execution_count": 2,
   "id": "f9fd6dfc-8f4c-4a77-b34f-abb3d96906c0",
   "metadata": {
    "tags": []
   },
   "outputs": [],
   "source": [
    "# Ignoring warnings\n",
    "import warnings\n",
    "warnings.filterwarnings('ignore')"
   ]
  },
  {
   "cell_type": "markdown",
   "id": "0114e245-9195-45ae-867a-7f3e0f08fe35",
   "metadata": {
    "tags": []
   },
   "source": [
    "<h2 style=\"color: #FF6B81;\">Data extraction</h2>"
   ]
  },
  {
   "cell_type": "code",
   "execution_count": 3,
   "id": "4b4e3929-a589-474e-bcdc-55e45d0c7c73",
   "metadata": {
    "tags": []
   },
   "outputs": [],
   "source": [
    "data_weekdays = pd.read_csv('lisbon_weekdays.csv')"
   ]
  },
  {
   "cell_type": "code",
   "execution_count": 4,
   "id": "686d2fcc",
   "metadata": {},
   "outputs": [],
   "source": [
    "data_weekends = pd.read_csv('lisbon_weekends.csv')"
   ]
  },
  {
   "cell_type": "markdown",
   "id": "6ccd0e85-7c73-4e84-a2d8-f21a62d6c5e3",
   "metadata": {
    "tags": []
   },
   "source": [
    "<h2 style=\"color: #FF6B81;\">Exploring the datasets</h2>"
   ]
  },
  {
   "cell_type": "markdown",
   "id": "383fe1d8",
   "metadata": {},
   "source": [
    "##### Variables list:\n",
    "\n",
    "\n",
    "- `realSum`: the full price of accommodation for two people and two nights in EUR\n",
    "- `room_type`: the type of the accommodation\n",
    "- `room_shared`: dummy variable for shared rooms \n",
    "- `room_private`: dummy variable for private rooms\n",
    "- `person_capacity`: maximum number of guests\n",
    "- `host_is_superhost`: dummy variable for superhost status\n",
    "- `multi`: dummy for listings offered by hosts with 2–4 listings\n",
    "- `biz`: dummy for listings offered by hosts with more than 4 listings\n",
    "- `cleanliness_rating`: cleanliness rating\n",
    "- `guest_satisfaction_overall`: overall rating of the listing (scale to 100)\n",
    "- `bedrooms`: number of bedrooms (0 for studios)\n",
    "- `dist`: distance to the city centre in km\n",
    "- `metro_dist`: distance from nearest metro station in km\n",
    "- `attr_index`: attraction index of the listing location\n",
    "- `attr_index_norm`: normalised attraction index (0-100)\n",
    "- `rest_index`: restaurant index of the listing location\n",
    "- `rest_index_norm`: normalised restaurant index (0-100)\n",
    "- `lng`: longitude of the listing location\n",
    "- `lat`: latitude of the listing location\n",
    "\n",
    "\n",
    "##### Notes on the listed price:\n",
    "\n",
    "- The offers were collected four to six weeks in advance of the travel dates, and the collected prices refer to the full amount due for the accommodation, including the reservation fee and cleaning fee. Weekdays refer to Tuesday-Thursday and weekends to Friday-Sunday bookings. \n"
   ]
  },
  {
   "cell_type": "code",
   "execution_count": 5,
   "id": "005e2fd6",
   "metadata": {},
   "outputs": [
    {
     "data": {
      "text/html": [
       "<div>\n",
       "<style scoped>\n",
       "    .dataframe tbody tr th:only-of-type {\n",
       "        vertical-align: middle;\n",
       "    }\n",
       "\n",
       "    .dataframe tbody tr th {\n",
       "        vertical-align: top;\n",
       "    }\n",
       "\n",
       "    .dataframe thead th {\n",
       "        text-align: right;\n",
       "    }\n",
       "</style>\n",
       "<table border=\"1\" class=\"dataframe\">\n",
       "  <thead>\n",
       "    <tr style=\"text-align: right;\">\n",
       "      <th></th>\n",
       "      <th>Unnamed: 0</th>\n",
       "      <th>realSum</th>\n",
       "      <th>room_type</th>\n",
       "      <th>room_shared</th>\n",
       "      <th>room_private</th>\n",
       "      <th>person_capacity</th>\n",
       "      <th>host_is_superhost</th>\n",
       "      <th>multi</th>\n",
       "      <th>biz</th>\n",
       "      <th>cleanliness_rating</th>\n",
       "      <th>guest_satisfaction_overall</th>\n",
       "      <th>bedrooms</th>\n",
       "      <th>dist</th>\n",
       "      <th>metro_dist</th>\n",
       "      <th>attr_index</th>\n",
       "      <th>attr_index_norm</th>\n",
       "      <th>rest_index</th>\n",
       "      <th>rest_index_norm</th>\n",
       "      <th>lng</th>\n",
       "      <th>lat</th>\n",
       "    </tr>\n",
       "  </thead>\n",
       "  <tbody>\n",
       "    <tr>\n",
       "      <th>990</th>\n",
       "      <td>990</td>\n",
       "      <td>285.647280</td>\n",
       "      <td>Entire home/apt</td>\n",
       "      <td>False</td>\n",
       "      <td>False</td>\n",
       "      <td>3.0</td>\n",
       "      <td>True</td>\n",
       "      <td>0</td>\n",
       "      <td>1</td>\n",
       "      <td>10.0</td>\n",
       "      <td>99.0</td>\n",
       "      <td>1</td>\n",
       "      <td>0.629722</td>\n",
       "      <td>0.331059</td>\n",
       "      <td>270.458919</td>\n",
       "      <td>8.929008</td>\n",
       "      <td>864.372716</td>\n",
       "      <td>38.657973</td>\n",
       "      <td>-9.14530</td>\n",
       "      <td>38.70884</td>\n",
       "    </tr>\n",
       "    <tr>\n",
       "      <th>16</th>\n",
       "      <td>16</td>\n",
       "      <td>270.637899</td>\n",
       "      <td>Entire home/apt</td>\n",
       "      <td>False</td>\n",
       "      <td>False</td>\n",
       "      <td>4.0</td>\n",
       "      <td>False</td>\n",
       "      <td>1</td>\n",
       "      <td>0</td>\n",
       "      <td>9.0</td>\n",
       "      <td>95.0</td>\n",
       "      <td>1</td>\n",
       "      <td>0.810770</td>\n",
       "      <td>0.586973</td>\n",
       "      <td>549.416394</td>\n",
       "      <td>18.138591</td>\n",
       "      <td>867.292565</td>\n",
       "      <td>38.788560</td>\n",
       "      <td>-9.13031</td>\n",
       "      <td>38.71212</td>\n",
       "    </tr>\n",
       "    <tr>\n",
       "      <th>291</th>\n",
       "      <td>291</td>\n",
       "      <td>305.816135</td>\n",
       "      <td>Entire home/apt</td>\n",
       "      <td>False</td>\n",
       "      <td>False</td>\n",
       "      <td>6.0</td>\n",
       "      <td>True</td>\n",
       "      <td>0</td>\n",
       "      <td>0</td>\n",
       "      <td>9.0</td>\n",
       "      <td>96.0</td>\n",
       "      <td>2</td>\n",
       "      <td>0.777644</td>\n",
       "      <td>0.498577</td>\n",
       "      <td>373.900958</td>\n",
       "      <td>12.344074</td>\n",
       "      <td>867.598835</td>\n",
       "      <td>38.802257</td>\n",
       "      <td>-9.13127</td>\n",
       "      <td>38.70988</td>\n",
       "    </tr>\n",
       "    <tr>\n",
       "      <th>158</th>\n",
       "      <td>158</td>\n",
       "      <td>310.037523</td>\n",
       "      <td>Entire home/apt</td>\n",
       "      <td>False</td>\n",
       "      <td>False</td>\n",
       "      <td>6.0</td>\n",
       "      <td>False</td>\n",
       "      <td>0</td>\n",
       "      <td>0</td>\n",
       "      <td>10.0</td>\n",
       "      <td>94.0</td>\n",
       "      <td>2</td>\n",
       "      <td>0.447970</td>\n",
       "      <td>0.370221</td>\n",
       "      <td>455.127317</td>\n",
       "      <td>15.025704</td>\n",
       "      <td>1043.259691</td>\n",
       "      <td>46.658466</td>\n",
       "      <td>-9.13546</td>\n",
       "      <td>38.71000</td>\n",
       "    </tr>\n",
       "    <tr>\n",
       "      <th>2066</th>\n",
       "      <td>2066</td>\n",
       "      <td>163.696060</td>\n",
       "      <td>Entire home/apt</td>\n",
       "      <td>False</td>\n",
       "      <td>False</td>\n",
       "      <td>2.0</td>\n",
       "      <td>False</td>\n",
       "      <td>0</td>\n",
       "      <td>1</td>\n",
       "      <td>9.0</td>\n",
       "      <td>70.0</td>\n",
       "      <td>0</td>\n",
       "      <td>2.383527</td>\n",
       "      <td>1.804974</td>\n",
       "      <td>111.847432</td>\n",
       "      <td>3.692563</td>\n",
       "      <td>297.719705</td>\n",
       "      <td>13.315136</td>\n",
       "      <td>-9.16568</td>\n",
       "      <td>38.70568</td>\n",
       "    </tr>\n",
       "    <tr>\n",
       "      <th>1356</th>\n",
       "      <td>1356</td>\n",
       "      <td>295.028143</td>\n",
       "      <td>Entire home/apt</td>\n",
       "      <td>False</td>\n",
       "      <td>False</td>\n",
       "      <td>4.0</td>\n",
       "      <td>True</td>\n",
       "      <td>0</td>\n",
       "      <td>1</td>\n",
       "      <td>10.0</td>\n",
       "      <td>99.0</td>\n",
       "      <td>2</td>\n",
       "      <td>0.580480</td>\n",
       "      <td>0.547918</td>\n",
       "      <td>336.245209</td>\n",
       "      <td>11.100896</td>\n",
       "      <td>1037.030255</td>\n",
       "      <td>46.379863</td>\n",
       "      <td>-9.14620</td>\n",
       "      <td>38.71144</td>\n",
       "    </tr>\n",
       "    <tr>\n",
       "      <th>1513</th>\n",
       "      <td>1513</td>\n",
       "      <td>391.416510</td>\n",
       "      <td>Entire home/apt</td>\n",
       "      <td>False</td>\n",
       "      <td>False</td>\n",
       "      <td>6.0</td>\n",
       "      <td>False</td>\n",
       "      <td>0</td>\n",
       "      <td>0</td>\n",
       "      <td>10.0</td>\n",
       "      <td>93.0</td>\n",
       "      <td>2</td>\n",
       "      <td>6.588172</td>\n",
       "      <td>5.607164</td>\n",
       "      <td>190.583350</td>\n",
       "      <td>6.291973</td>\n",
       "      <td>160.425734</td>\n",
       "      <td>7.174837</td>\n",
       "      <td>-9.21232</td>\n",
       "      <td>38.69562</td>\n",
       "    </tr>\n",
       "    <tr>\n",
       "      <th>2836</th>\n",
       "      <td>2836</td>\n",
       "      <td>170.262664</td>\n",
       "      <td>Entire home/apt</td>\n",
       "      <td>False</td>\n",
       "      <td>False</td>\n",
       "      <td>4.0</td>\n",
       "      <td>False</td>\n",
       "      <td>0</td>\n",
       "      <td>0</td>\n",
       "      <td>2.0</td>\n",
       "      <td>20.0</td>\n",
       "      <td>2</td>\n",
       "      <td>1.618669</td>\n",
       "      <td>0.524593</td>\n",
       "      <td>165.773636</td>\n",
       "      <td>5.472898</td>\n",
       "      <td>363.135677</td>\n",
       "      <td>16.240783</td>\n",
       "      <td>-9.12263</td>\n",
       "      <td>38.71832</td>\n",
       "    </tr>\n",
       "    <tr>\n",
       "      <th>2539</th>\n",
       "      <td>2539</td>\n",
       "      <td>239.681051</td>\n",
       "      <td>Entire home/apt</td>\n",
       "      <td>False</td>\n",
       "      <td>False</td>\n",
       "      <td>2.0</td>\n",
       "      <td>True</td>\n",
       "      <td>0</td>\n",
       "      <td>0</td>\n",
       "      <td>10.0</td>\n",
       "      <td>99.0</td>\n",
       "      <td>1</td>\n",
       "      <td>0.426910</td>\n",
       "      <td>0.218784</td>\n",
       "      <td>350.306165</td>\n",
       "      <td>11.565108</td>\n",
       "      <td>925.918543</td>\n",
       "      <td>41.410532</td>\n",
       "      <td>-9.13800</td>\n",
       "      <td>38.71600</td>\n",
       "    </tr>\n",
       "    <tr>\n",
       "      <th>545</th>\n",
       "      <td>545</td>\n",
       "      <td>193.949343</td>\n",
       "      <td>Entire home/apt</td>\n",
       "      <td>False</td>\n",
       "      <td>False</td>\n",
       "      <td>2.0</td>\n",
       "      <td>False</td>\n",
       "      <td>0</td>\n",
       "      <td>0</td>\n",
       "      <td>10.0</td>\n",
       "      <td>91.0</td>\n",
       "      <td>1</td>\n",
       "      <td>0.633210</td>\n",
       "      <td>0.552186</td>\n",
       "      <td>445.457680</td>\n",
       "      <td>14.706468</td>\n",
       "      <td>905.576662</td>\n",
       "      <td>40.500768</td>\n",
       "      <td>-9.14691</td>\n",
       "      <td>38.71254</td>\n",
       "    </tr>\n",
       "  </tbody>\n",
       "</table>\n",
       "</div>"
      ],
      "text/plain": [
       "      Unnamed: 0     realSum        room_type  room_shared  room_private  \\\n",
       "990          990  285.647280  Entire home/apt        False         False   \n",
       "16            16  270.637899  Entire home/apt        False         False   \n",
       "291          291  305.816135  Entire home/apt        False         False   \n",
       "158          158  310.037523  Entire home/apt        False         False   \n",
       "2066        2066  163.696060  Entire home/apt        False         False   \n",
       "1356        1356  295.028143  Entire home/apt        False         False   \n",
       "1513        1513  391.416510  Entire home/apt        False         False   \n",
       "2836        2836  170.262664  Entire home/apt        False         False   \n",
       "2539        2539  239.681051  Entire home/apt        False         False   \n",
       "545          545  193.949343  Entire home/apt        False         False   \n",
       "\n",
       "      person_capacity  host_is_superhost  multi  biz  cleanliness_rating  \\\n",
       "990               3.0               True      0    1                10.0   \n",
       "16                4.0              False      1    0                 9.0   \n",
       "291               6.0               True      0    0                 9.0   \n",
       "158               6.0              False      0    0                10.0   \n",
       "2066              2.0              False      0    1                 9.0   \n",
       "1356              4.0               True      0    1                10.0   \n",
       "1513              6.0              False      0    0                10.0   \n",
       "2836              4.0              False      0    0                 2.0   \n",
       "2539              2.0               True      0    0                10.0   \n",
       "545               2.0              False      0    0                10.0   \n",
       "\n",
       "      guest_satisfaction_overall  bedrooms      dist  metro_dist  attr_index  \\\n",
       "990                         99.0         1  0.629722    0.331059  270.458919   \n",
       "16                          95.0         1  0.810770    0.586973  549.416394   \n",
       "291                         96.0         2  0.777644    0.498577  373.900958   \n",
       "158                         94.0         2  0.447970    0.370221  455.127317   \n",
       "2066                        70.0         0  2.383527    1.804974  111.847432   \n",
       "1356                        99.0         2  0.580480    0.547918  336.245209   \n",
       "1513                        93.0         2  6.588172    5.607164  190.583350   \n",
       "2836                        20.0         2  1.618669    0.524593  165.773636   \n",
       "2539                        99.0         1  0.426910    0.218784  350.306165   \n",
       "545                         91.0         1  0.633210    0.552186  445.457680   \n",
       "\n",
       "      attr_index_norm   rest_index  rest_index_norm      lng       lat  \n",
       "990          8.929008   864.372716        38.657973 -9.14530  38.70884  \n",
       "16          18.138591   867.292565        38.788560 -9.13031  38.71212  \n",
       "291         12.344074   867.598835        38.802257 -9.13127  38.70988  \n",
       "158         15.025704  1043.259691        46.658466 -9.13546  38.71000  \n",
       "2066         3.692563   297.719705        13.315136 -9.16568  38.70568  \n",
       "1356        11.100896  1037.030255        46.379863 -9.14620  38.71144  \n",
       "1513         6.291973   160.425734         7.174837 -9.21232  38.69562  \n",
       "2836         5.472898   363.135677        16.240783 -9.12263  38.71832  \n",
       "2539        11.565108   925.918543        41.410532 -9.13800  38.71600  \n",
       "545         14.706468   905.576662        40.500768 -9.14691  38.71254  "
      ]
     },
     "execution_count": 5,
     "metadata": {},
     "output_type": "execute_result"
    }
   ],
   "source": [
    "data_weekdays.sample(10)"
   ]
  },
  {
   "cell_type": "code",
   "execution_count": 6,
   "id": "d80babd6",
   "metadata": {},
   "outputs": [
    {
     "data": {
      "text/html": [
       "<div>\n",
       "<style scoped>\n",
       "    .dataframe tbody tr th:only-of-type {\n",
       "        vertical-align: middle;\n",
       "    }\n",
       "\n",
       "    .dataframe tbody tr th {\n",
       "        vertical-align: top;\n",
       "    }\n",
       "\n",
       "    .dataframe thead th {\n",
       "        text-align: right;\n",
       "    }\n",
       "</style>\n",
       "<table border=\"1\" class=\"dataframe\">\n",
       "  <thead>\n",
       "    <tr style=\"text-align: right;\">\n",
       "      <th></th>\n",
       "      <th>Unnamed: 0</th>\n",
       "      <th>realSum</th>\n",
       "      <th>room_type</th>\n",
       "      <th>room_shared</th>\n",
       "      <th>room_private</th>\n",
       "      <th>person_capacity</th>\n",
       "      <th>host_is_superhost</th>\n",
       "      <th>multi</th>\n",
       "      <th>biz</th>\n",
       "      <th>cleanliness_rating</th>\n",
       "      <th>guest_satisfaction_overall</th>\n",
       "      <th>bedrooms</th>\n",
       "      <th>dist</th>\n",
       "      <th>metro_dist</th>\n",
       "      <th>attr_index</th>\n",
       "      <th>attr_index_norm</th>\n",
       "      <th>rest_index</th>\n",
       "      <th>rest_index_norm</th>\n",
       "      <th>lng</th>\n",
       "      <th>lat</th>\n",
       "    </tr>\n",
       "  </thead>\n",
       "  <tbody>\n",
       "    <tr>\n",
       "      <th>1130</th>\n",
       "      <td>1130</td>\n",
       "      <td>158.536585</td>\n",
       "      <td>Private room</td>\n",
       "      <td>False</td>\n",
       "      <td>True</td>\n",
       "      <td>2.0</td>\n",
       "      <td>False</td>\n",
       "      <td>1</td>\n",
       "      <td>0</td>\n",
       "      <td>9.0</td>\n",
       "      <td>93.0</td>\n",
       "      <td>3</td>\n",
       "      <td>0.258316</td>\n",
       "      <td>0.111305</td>\n",
       "      <td>399.900639</td>\n",
       "      <td>13.190030</td>\n",
       "      <td>1205.241542</td>\n",
       "      <td>67.737762</td>\n",
       "      <td>-9.14127</td>\n",
       "      <td>38.71043</td>\n",
       "    </tr>\n",
       "    <tr>\n",
       "      <th>2209</th>\n",
       "      <td>2209</td>\n",
       "      <td>184.099437</td>\n",
       "      <td>Private room</td>\n",
       "      <td>False</td>\n",
       "      <td>True</td>\n",
       "      <td>2.0</td>\n",
       "      <td>False</td>\n",
       "      <td>0</td>\n",
       "      <td>1</td>\n",
       "      <td>10.0</td>\n",
       "      <td>93.0</td>\n",
       "      <td>1</td>\n",
       "      <td>2.276772</td>\n",
       "      <td>0.102534</td>\n",
       "      <td>118.446612</td>\n",
       "      <td>3.906756</td>\n",
       "      <td>369.252124</td>\n",
       "      <td>20.752946</td>\n",
       "      <td>-9.14738</td>\n",
       "      <td>38.73197</td>\n",
       "    </tr>\n",
       "    <tr>\n",
       "      <th>1083</th>\n",
       "      <td>1083</td>\n",
       "      <td>334.427767</td>\n",
       "      <td>Entire home/apt</td>\n",
       "      <td>False</td>\n",
       "      <td>False</td>\n",
       "      <td>4.0</td>\n",
       "      <td>True</td>\n",
       "      <td>0</td>\n",
       "      <td>1</td>\n",
       "      <td>10.0</td>\n",
       "      <td>96.0</td>\n",
       "      <td>2</td>\n",
       "      <td>0.138039</td>\n",
       "      <td>0.195221</td>\n",
       "      <td>526.058363</td>\n",
       "      <td>17.351124</td>\n",
       "      <td>1304.884360</td>\n",
       "      <td>73.337952</td>\n",
       "      <td>-9.14100</td>\n",
       "      <td>38.71300</td>\n",
       "    </tr>\n",
       "    <tr>\n",
       "      <th>904</th>\n",
       "      <td>904</td>\n",
       "      <td>197.701689</td>\n",
       "      <td>Entire home/apt</td>\n",
       "      <td>False</td>\n",
       "      <td>False</td>\n",
       "      <td>4.0</td>\n",
       "      <td>False</td>\n",
       "      <td>1</td>\n",
       "      <td>0</td>\n",
       "      <td>9.0</td>\n",
       "      <td>90.0</td>\n",
       "      <td>1</td>\n",
       "      <td>0.578397</td>\n",
       "      <td>0.281456</td>\n",
       "      <td>284.515430</td>\n",
       "      <td>9.384249</td>\n",
       "      <td>921.192910</td>\n",
       "      <td>51.773478</td>\n",
       "      <td>-9.14433</td>\n",
       "      <td>38.71606</td>\n",
       "    </tr>\n",
       "    <tr>\n",
       "      <th>2704</th>\n",
       "      <td>2704</td>\n",
       "      <td>170.262664</td>\n",
       "      <td>Entire home/apt</td>\n",
       "      <td>False</td>\n",
       "      <td>False</td>\n",
       "      <td>2.0</td>\n",
       "      <td>False</td>\n",
       "      <td>1</td>\n",
       "      <td>0</td>\n",
       "      <td>10.0</td>\n",
       "      <td>96.0</td>\n",
       "      <td>1</td>\n",
       "      <td>0.622007</td>\n",
       "      <td>0.210778</td>\n",
       "      <td>350.976029</td>\n",
       "      <td>11.576336</td>\n",
       "      <td>708.546147</td>\n",
       "      <td>39.822167</td>\n",
       "      <td>-9.13380</td>\n",
       "      <td>38.71562</td>\n",
       "    </tr>\n",
       "    <tr>\n",
       "      <th>1222</th>\n",
       "      <td>1222</td>\n",
       "      <td>283.302064</td>\n",
       "      <td>Entire home/apt</td>\n",
       "      <td>False</td>\n",
       "      <td>False</td>\n",
       "      <td>6.0</td>\n",
       "      <td>False</td>\n",
       "      <td>0</td>\n",
       "      <td>0</td>\n",
       "      <td>10.0</td>\n",
       "      <td>98.0</td>\n",
       "      <td>2</td>\n",
       "      <td>3.713938</td>\n",
       "      <td>1.755158</td>\n",
       "      <td>82.651754</td>\n",
       "      <td>2.726125</td>\n",
       "      <td>174.981020</td>\n",
       "      <td>9.834396</td>\n",
       "      <td>-9.10572</td>\n",
       "      <td>38.73273</td>\n",
       "    </tr>\n",
       "    <tr>\n",
       "      <th>1854</th>\n",
       "      <td>1854</td>\n",
       "      <td>277.439024</td>\n",
       "      <td>Entire home/apt</td>\n",
       "      <td>False</td>\n",
       "      <td>False</td>\n",
       "      <td>4.0</td>\n",
       "      <td>False</td>\n",
       "      <td>0</td>\n",
       "      <td>1</td>\n",
       "      <td>9.0</td>\n",
       "      <td>91.0</td>\n",
       "      <td>1</td>\n",
       "      <td>7.189630</td>\n",
       "      <td>6.132681</td>\n",
       "      <td>127.139502</td>\n",
       "      <td>4.193476</td>\n",
       "      <td>109.094391</td>\n",
       "      <td>6.131393</td>\n",
       "      <td>-9.21994</td>\n",
       "      <td>38.69695</td>\n",
       "    </tr>\n",
       "    <tr>\n",
       "      <th>2128</th>\n",
       "      <td>2128</td>\n",
       "      <td>311.210131</td>\n",
       "      <td>Entire home/apt</td>\n",
       "      <td>False</td>\n",
       "      <td>False</td>\n",
       "      <td>6.0</td>\n",
       "      <td>False</td>\n",
       "      <td>0</td>\n",
       "      <td>1</td>\n",
       "      <td>9.0</td>\n",
       "      <td>83.0</td>\n",
       "      <td>2</td>\n",
       "      <td>2.234890</td>\n",
       "      <td>1.021632</td>\n",
       "      <td>115.211690</td>\n",
       "      <td>3.800058</td>\n",
       "      <td>305.252453</td>\n",
       "      <td>17.155995</td>\n",
       "      <td>-9.16520</td>\n",
       "      <td>38.71444</td>\n",
       "    </tr>\n",
       "    <tr>\n",
       "      <th>1916</th>\n",
       "      <td>1916</td>\n",
       "      <td>272.983114</td>\n",
       "      <td>Entire home/apt</td>\n",
       "      <td>False</td>\n",
       "      <td>False</td>\n",
       "      <td>4.0</td>\n",
       "      <td>False</td>\n",
       "      <td>0</td>\n",
       "      <td>1</td>\n",
       "      <td>10.0</td>\n",
       "      <td>94.0</td>\n",
       "      <td>1</td>\n",
       "      <td>2.305888</td>\n",
       "      <td>0.464500</td>\n",
       "      <td>112.890707</td>\n",
       "      <td>3.723504</td>\n",
       "      <td>332.639705</td>\n",
       "      <td>18.695231</td>\n",
       "      <td>-9.14049</td>\n",
       "      <td>38.73314</td>\n",
       "    </tr>\n",
       "    <tr>\n",
       "      <th>843</th>\n",
       "      <td>843</td>\n",
       "      <td>263.602251</td>\n",
       "      <td>Entire home/apt</td>\n",
       "      <td>False</td>\n",
       "      <td>False</td>\n",
       "      <td>3.0</td>\n",
       "      <td>True</td>\n",
       "      <td>0</td>\n",
       "      <td>1</td>\n",
       "      <td>10.0</td>\n",
       "      <td>97.0</td>\n",
       "      <td>0</td>\n",
       "      <td>0.574356</td>\n",
       "      <td>0.524001</td>\n",
       "      <td>336.998321</td>\n",
       "      <td>11.115306</td>\n",
       "      <td>1134.506390</td>\n",
       "      <td>63.762260</td>\n",
       "      <td>-9.14600</td>\n",
       "      <td>38.71100</td>\n",
       "    </tr>\n",
       "  </tbody>\n",
       "</table>\n",
       "</div>"
      ],
      "text/plain": [
       "      Unnamed: 0     realSum        room_type  room_shared  room_private  \\\n",
       "1130        1130  158.536585     Private room        False          True   \n",
       "2209        2209  184.099437     Private room        False          True   \n",
       "1083        1083  334.427767  Entire home/apt        False         False   \n",
       "904          904  197.701689  Entire home/apt        False         False   \n",
       "2704        2704  170.262664  Entire home/apt        False         False   \n",
       "1222        1222  283.302064  Entire home/apt        False         False   \n",
       "1854        1854  277.439024  Entire home/apt        False         False   \n",
       "2128        2128  311.210131  Entire home/apt        False         False   \n",
       "1916        1916  272.983114  Entire home/apt        False         False   \n",
       "843          843  263.602251  Entire home/apt        False         False   \n",
       "\n",
       "      person_capacity  host_is_superhost  multi  biz  cleanliness_rating  \\\n",
       "1130              2.0              False      1    0                 9.0   \n",
       "2209              2.0              False      0    1                10.0   \n",
       "1083              4.0               True      0    1                10.0   \n",
       "904               4.0              False      1    0                 9.0   \n",
       "2704              2.0              False      1    0                10.0   \n",
       "1222              6.0              False      0    0                10.0   \n",
       "1854              4.0              False      0    1                 9.0   \n",
       "2128              6.0              False      0    1                 9.0   \n",
       "1916              4.0              False      0    1                10.0   \n",
       "843               3.0               True      0    1                10.0   \n",
       "\n",
       "      guest_satisfaction_overall  bedrooms      dist  metro_dist  attr_index  \\\n",
       "1130                        93.0         3  0.258316    0.111305  399.900639   \n",
       "2209                        93.0         1  2.276772    0.102534  118.446612   \n",
       "1083                        96.0         2  0.138039    0.195221  526.058363   \n",
       "904                         90.0         1  0.578397    0.281456  284.515430   \n",
       "2704                        96.0         1  0.622007    0.210778  350.976029   \n",
       "1222                        98.0         2  3.713938    1.755158   82.651754   \n",
       "1854                        91.0         1  7.189630    6.132681  127.139502   \n",
       "2128                        83.0         2  2.234890    1.021632  115.211690   \n",
       "1916                        94.0         1  2.305888    0.464500  112.890707   \n",
       "843                         97.0         0  0.574356    0.524001  336.998321   \n",
       "\n",
       "      attr_index_norm   rest_index  rest_index_norm      lng       lat  \n",
       "1130        13.190030  1205.241542        67.737762 -9.14127  38.71043  \n",
       "2209         3.906756   369.252124        20.752946 -9.14738  38.73197  \n",
       "1083        17.351124  1304.884360        73.337952 -9.14100  38.71300  \n",
       "904          9.384249   921.192910        51.773478 -9.14433  38.71606  \n",
       "2704        11.576336   708.546147        39.822167 -9.13380  38.71562  \n",
       "1222         2.726125   174.981020         9.834396 -9.10572  38.73273  \n",
       "1854         4.193476   109.094391         6.131393 -9.21994  38.69695  \n",
       "2128         3.800058   305.252453        17.155995 -9.16520  38.71444  \n",
       "1916         3.723504   332.639705        18.695231 -9.14049  38.73314  \n",
       "843         11.115306  1134.506390        63.762260 -9.14600  38.71100  "
      ]
     },
     "execution_count": 6,
     "metadata": {},
     "output_type": "execute_result"
    }
   ],
   "source": [
    "data_weekends.sample(10)"
   ]
  },
  {
   "cell_type": "code",
   "execution_count": 7,
   "id": "08f69724",
   "metadata": {},
   "outputs": [
    {
     "data": {
      "text/plain": [
       "(2857, 20)"
      ]
     },
     "execution_count": 7,
     "metadata": {},
     "output_type": "execute_result"
    }
   ],
   "source": [
    "data_weekdays.shape"
   ]
  },
  {
   "cell_type": "code",
   "execution_count": 8,
   "id": "bbd793ca",
   "metadata": {},
   "outputs": [
    {
     "data": {
      "text/plain": [
       "(2906, 20)"
      ]
     },
     "execution_count": 8,
     "metadata": {},
     "output_type": "execute_result"
    }
   ],
   "source": [
    "data_weekends.shape"
   ]
  },
  {
   "cell_type": "code",
   "execution_count": 9,
   "id": "014fec53",
   "metadata": {},
   "outputs": [
    {
     "data": {
      "text/plain": [
       "Index(['Unnamed: 0', 'realSum', 'room_type', 'room_shared', 'room_private',\n",
       "       'person_capacity', 'host_is_superhost', 'multi', 'biz',\n",
       "       'cleanliness_rating', 'guest_satisfaction_overall', 'bedrooms', 'dist',\n",
       "       'metro_dist', 'attr_index', 'attr_index_norm', 'rest_index',\n",
       "       'rest_index_norm', 'lng', 'lat'],\n",
       "      dtype='object')"
      ]
     },
     "execution_count": 9,
     "metadata": {},
     "output_type": "execute_result"
    }
   ],
   "source": [
    "data_weekdays.columns"
   ]
  },
  {
   "cell_type": "code",
   "execution_count": 10,
   "id": "34e9c776",
   "metadata": {},
   "outputs": [
    {
     "data": {
      "text/plain": [
       "Index(['Unnamed: 0', 'realSum', 'room_type', 'room_shared', 'room_private',\n",
       "       'person_capacity', 'host_is_superhost', 'multi', 'biz',\n",
       "       'cleanliness_rating', 'guest_satisfaction_overall', 'bedrooms', 'dist',\n",
       "       'metro_dist', 'attr_index', 'attr_index_norm', 'rest_index',\n",
       "       'rest_index_norm', 'lng', 'lat'],\n",
       "      dtype='object')"
      ]
     },
     "execution_count": 10,
     "metadata": {},
     "output_type": "execute_result"
    }
   ],
   "source": [
    "data_weekends.columns"
   ]
  },
  {
   "cell_type": "markdown",
   "id": "a1ca18f8-9e09-4507-a3c4-da4649eb45b1",
   "metadata": {},
   "source": [
    "**First impression:**\n",
    "- `Unnamed: 0` will be dropped - it is an index column;\n",
    "- `attr_index`and `rest_index`will be dropped too given that we have the same variables in `attr_index_norm` and `rest_index_norm` but in a more insightful 0-100 scale;\n",
    "- `room_shared` and `room_private`will also be dropped given that these bollean info comes from `room_type`and adds no value to our analysis;\n",
    "- `realSum` will be changed to `listing_price`for better understanding;\n",
    "- In order to be able to distinguish from weekend and weekdays listings info it is relevant to create a boolean column with True for weekends listings and False for weekdays listings;\n",
    "- Afterwards the data_weekends and data_weekdays will be concatenated to continue the cleaning process.  \n"
   ]
  },
  {
   "cell_type": "code",
   "execution_count": 11,
   "id": "2a787aa1",
   "metadata": {},
   "outputs": [],
   "source": [
    "df_weekdays = data_weekdays.copy()"
   ]
  },
  {
   "cell_type": "code",
   "execution_count": 12,
   "id": "f7d69808",
   "metadata": {},
   "outputs": [],
   "source": [
    "df_weekdends = data_weekends.copy()"
   ]
  },
  {
   "cell_type": "markdown",
   "id": "417a8a85-bc10-46e3-9494-fac45f62ad64",
   "metadata": {},
   "source": [
    "<h2 style=\"color: #FF6B81;\">Data Cleaning</h2>"
   ]
  },
  {
   "cell_type": "markdown",
   "id": "a3929fff",
   "metadata": {},
   "source": [
    "<h3 style=\"color: #FF6B81;\">Dropping columns</h3>"
   ]
  },
  {
   "cell_type": "code",
   "execution_count": 13,
   "id": "f4e073fe",
   "metadata": {},
   "outputs": [],
   "source": [
    "df_weekdays.drop(columns=[\"Unnamed: 0\", \"attr_index\", \"rest_index\", \"room_shared\", \"room_private\"], inplace = True)"
   ]
  },
  {
   "cell_type": "code",
   "execution_count": 14,
   "id": "97c1c068",
   "metadata": {},
   "outputs": [],
   "source": [
    "df_weekdends.drop(columns=[\"Unnamed: 0\", \"attr_index\", \"rest_index\", \"room_shared\", \"room_private\"], inplace = True)"
   ]
  },
  {
   "cell_type": "markdown",
   "id": "84e7b969",
   "metadata": {},
   "source": [
    "<h3 style=\"color: #FF6B81;\">Boolean column weekdend</h3>"
   ]
  },
  {
   "cell_type": "code",
   "execution_count": 15,
   "id": "efa8d50b",
   "metadata": {},
   "outputs": [],
   "source": [
    "df_weekdays[\"weekend\"] = 0\n",
    "df_weekdends[\"weekend\"] = 1"
   ]
  },
  {
   "cell_type": "markdown",
   "id": "ec0a6528",
   "metadata": {},
   "source": [
    "<h3 style=\"color: #FF6B81;\">Concatenate two dataframes</h3>"
   ]
  },
  {
   "cell_type": "code",
   "execution_count": 16,
   "id": "22f9431f",
   "metadata": {},
   "outputs": [],
   "source": [
    "airbnb_lisbon = pd.concat([df_weekdays, df_weekdends], axis=0)"
   ]
  },
  {
   "cell_type": "code",
   "execution_count": 17,
   "id": "5eae9446",
   "metadata": {},
   "outputs": [],
   "source": [
    "airbnb_lisbon.reset_index(drop=True, inplace=True)"
   ]
  },
  {
   "cell_type": "code",
   "execution_count": 18,
   "id": "58fe4465",
   "metadata": {},
   "outputs": [],
   "source": [
    "airbnb_lisbon.rename(columns={\"realSum\":\"listing_price\"}, inplace=True)"
   ]
  },
  {
   "cell_type": "markdown",
   "id": "fd4c0135",
   "metadata": {},
   "source": [
    "<h3 style=\"color: #FF6B81;\">Saving my airbnb_lisbon dataframe</h3>"
   ]
  },
  {
   "cell_type": "code",
   "execution_count": 19,
   "id": "49224c98",
   "metadata": {},
   "outputs": [],
   "source": [
    "airbnb_lisbon.to_csv('airbnb_lisbon.csv', index=False)"
   ]
  },
  {
   "cell_type": "markdown",
   "id": "4d6cfd32-5448-4962-882e-40f435a41842",
   "metadata": {
    "tags": []
   },
   "source": [
    "<h3 style=\"color: #FF6B81;\">Checking Null values</h3>"
   ]
  },
  {
   "cell_type": "code",
   "execution_count": 20,
   "id": "1568f50b",
   "metadata": {},
   "outputs": [
    {
     "data": {
      "text/plain": [
       "listing_price                 0\n",
       "room_type                     0\n",
       "person_capacity               0\n",
       "host_is_superhost             0\n",
       "multi                         0\n",
       "biz                           0\n",
       "cleanliness_rating            0\n",
       "guest_satisfaction_overall    0\n",
       "bedrooms                      0\n",
       "dist                          0\n",
       "metro_dist                    0\n",
       "attr_index_norm               0\n",
       "rest_index_norm               0\n",
       "lng                           0\n",
       "lat                           0\n",
       "weekend                       0\n",
       "dtype: int64"
      ]
     },
     "execution_count": 20,
     "metadata": {},
     "output_type": "execute_result"
    }
   ],
   "source": [
    "airbnb_lisbon.isna().sum()"
   ]
  },
  {
   "cell_type": "markdown",
   "id": "9106861d-272f-4cd2-a3e3-b5827f3d6193",
   "metadata": {
    "tags": []
   },
   "source": [
    "<h3 style=\"color: #FF6B81;\">Checking Duplicates</h3>"
   ]
  },
  {
   "cell_type": "code",
   "execution_count": 21,
   "id": "818805af",
   "metadata": {},
   "outputs": [
    {
     "data": {
      "text/plain": [
       "0"
      ]
     },
     "execution_count": 21,
     "metadata": {},
     "output_type": "execute_result"
    }
   ],
   "source": [
    "airbnb_lisbon.duplicated().sum()"
   ]
  },
  {
   "cell_type": "markdown",
   "id": "5b99f8c1-08d3-423d-bef0-5e4d18d48808",
   "metadata": {
    "tags": []
   },
   "source": [
    "<h3 style=\"color: #FF6B81;\">Checking Empty Spaces</h3>"
   ]
  },
  {
   "cell_type": "code",
   "execution_count": 22,
   "id": "c6d4403b",
   "metadata": {},
   "outputs": [
    {
     "data": {
      "text/plain": [
       "listing_price                 0\n",
       "room_type                     0\n",
       "person_capacity               0\n",
       "host_is_superhost             0\n",
       "multi                         0\n",
       "biz                           0\n",
       "cleanliness_rating            0\n",
       "guest_satisfaction_overall    0\n",
       "bedrooms                      0\n",
       "dist                          0\n",
       "metro_dist                    0\n",
       "attr_index_norm               0\n",
       "rest_index_norm               0\n",
       "lng                           0\n",
       "lat                           0\n",
       "weekend                       0\n",
       "dtype: int64"
      ]
     },
     "execution_count": 22,
     "metadata": {},
     "output_type": "execute_result"
    }
   ],
   "source": [
    "airbnb_lisbon.eq(\" \").sum()"
   ]
  },
  {
   "cell_type": "markdown",
   "id": "0e541502",
   "metadata": {},
   "source": [
    "<h3 style=\"color: #FF6B81;\">Checking and changing column types</h3>"
   ]
  },
  {
   "cell_type": "code",
   "execution_count": 23,
   "id": "2154e04a",
   "metadata": {},
   "outputs": [
    {
     "data": {
      "text/plain": [
       "listing_price                 float64\n",
       "room_type                      object\n",
       "person_capacity               float64\n",
       "host_is_superhost                bool\n",
       "multi                           int64\n",
       "biz                             int64\n",
       "cleanliness_rating            float64\n",
       "guest_satisfaction_overall    float64\n",
       "bedrooms                        int64\n",
       "dist                          float64\n",
       "metro_dist                    float64\n",
       "attr_index_norm               float64\n",
       "rest_index_norm               float64\n",
       "lng                           float64\n",
       "lat                           float64\n",
       "weekend                         int64\n",
       "dtype: object"
      ]
     },
     "execution_count": 23,
     "metadata": {},
     "output_type": "execute_result"
    }
   ],
   "source": [
    "airbnb_lisbon.dtypes"
   ]
  },
  {
   "cell_type": "code",
   "execution_count": 24,
   "id": "751253e2",
   "metadata": {},
   "outputs": [],
   "source": [
    "# Changing super host variable from boolean to integer\n",
    "super_host_mapping = {False: 0 , True: 1}\n",
    "airbnb_lisbon[\"host_is_superhost\"] = airbnb_lisbon[\"host_is_superhost\"].map(super_host_mapping)"
   ]
  },
  {
   "cell_type": "code",
   "execution_count": 25,
   "id": "93175d55",
   "metadata": {},
   "outputs": [],
   "source": [
    "# Changing person capacity, cleanliness_rating and guest_satisfaction_overall from float to integer\n",
    "airbnb_lisbon[\"person_capacity\"] = airbnb_lisbon[\"person_capacity\"].astype(int)\n",
    "airbnb_lisbon[\"cleanliness_rating\"] = airbnb_lisbon[\"cleanliness_rating\"].astype(int)\n",
    "airbnb_lisbon[\"guest_satisfaction_overall\"] = airbnb_lisbon[\"guest_satisfaction_overall\"].astype(int)"
   ]
  },
  {
   "cell_type": "code",
   "execution_count": 26,
   "id": "e52beb12",
   "metadata": {},
   "outputs": [
    {
     "data": {
      "text/plain": [
       "listing_price                 float64\n",
       "room_type                      object\n",
       "person_capacity                 int32\n",
       "host_is_superhost               int64\n",
       "multi                           int64\n",
       "biz                             int64\n",
       "cleanliness_rating              int32\n",
       "guest_satisfaction_overall      int32\n",
       "bedrooms                        int64\n",
       "dist                          float64\n",
       "metro_dist                    float64\n",
       "attr_index_norm               float64\n",
       "rest_index_norm               float64\n",
       "lng                           float64\n",
       "lat                           float64\n",
       "weekend                         int64\n",
       "dtype: object"
      ]
     },
     "execution_count": 26,
     "metadata": {},
     "output_type": "execute_result"
    }
   ],
   "source": [
    "airbnb_lisbon.dtypes"
   ]
  },
  {
   "cell_type": "markdown",
   "id": "6e607cd5",
   "metadata": {},
   "source": [
    "<h3 style=\"color: #FF6B81;\">Rounding float variables (excluding latitude and longitude) </h3>"
   ]
  },
  {
   "cell_type": "code",
   "execution_count": 27,
   "id": "9a10f97f",
   "metadata": {},
   "outputs": [],
   "source": [
    "float_variables = [\"dist\", \"metro_dist\", \"attr_index_norm\", \"rest_index_norm\", \"listing_price\"]"
   ]
  },
  {
   "cell_type": "code",
   "execution_count": 28,
   "id": "82818718",
   "metadata": {},
   "outputs": [],
   "source": [
    "airbnb_lisbon[float_variables] = airbnb_lisbon[float_variables].apply(lambda x: round(x, 2))"
   ]
  },
  {
   "cell_type": "markdown",
   "id": "11ff597a-e5f3-4e3b-93d5-cbec9235951f",
   "metadata": {
    "tags": []
   },
   "source": [
    "<h3 style=\"color: #FF6B81;\">Moving listing price to the right</h3>"
   ]
  },
  {
   "cell_type": "code",
   "execution_count": 29,
   "id": "d72bba03",
   "metadata": {},
   "outputs": [],
   "source": [
    "column_to_move = airbnb_lisbon.pop(\"listing_price\")\n",
    "airbnb_lisbon[\"listing_price\"] = column_to_move"
   ]
  },
  {
   "cell_type": "markdown",
   "id": "2a716449-cd20-454c-8e21-805617121efc",
   "metadata": {},
   "source": [
    "<h2 style=\"color: #FF6B81;\">EDA (Exploratory Data Analysis)</h2>"
   ]
  },
  {
   "cell_type": "markdown",
   "id": "45e81162",
   "metadata": {},
   "source": [
    "<h3 style=\"color: #FF6B81;\">Categorical vs Numerical data</h3>"
   ]
  },
  {
   "cell_type": "code",
   "execution_count": 45,
   "id": "330c48df",
   "metadata": {},
   "outputs": [
    {
     "name": "stdout",
     "output_type": "stream",
     "text": [
      "room_type number of unique values: 3\n",
      "person_capacity number of unique values: 5\n",
      "host_is_superhost number of unique values: 2\n",
      "multi number of unique values: 2\n",
      "biz number of unique values: 2\n",
      "cleanliness_rating number of unique values: 9\n",
      "guest_satisfaction_overall number of unique values: 46\n",
      "bedrooms number of unique values: 7\n",
      "dist number of unique values: 626\n",
      "metro_dist number of unique values: 341\n",
      "attr_index_norm number of unique values: 1415\n",
      "rest_index_norm number of unique values: 3270\n",
      "lng number of unique values: 2190\n",
      "lat number of unique values: 2054\n",
      "weekend number of unique values: 2\n",
      "listing_price number of unique values: 1159\n"
     ]
    }
   ],
   "source": [
    "for col in airbnb_lisbon.columns:\n",
    "    number_unique_values = airbnb_lisbon[f\"{col}\"].nunique()\n",
    "    print(f\"{col} number of unique values: {number_unique_values}\")"
   ]
  },
  {
   "cell_type": "markdown",
   "id": "7eb0dfc9",
   "metadata": {},
   "source": [
    "From unique values we may start splitting categorical from numerical variables \n",
    "\n",
    "Categorical:\n",
    "- `room_type` \n",
    "- `person_capacity`\n",
    "- `host_is_superhost`\n",
    "- `multi`\n",
    "- `biz`\n",
    "- `cleanliness_rating`\n",
    "- `bedrooms`\n",
    "- `weekend`\n",
    "\n",
    "Note: For now let's assume `guest_satisfaction_overall` as numerical\n",
    "\n",
    "Numerical:\n",
    "- `guest_satisfaction_overall` \n",
    "- `dist`\n",
    "- `metro_dist`\n",
    "- `attr_index_norm`\n",
    "- `rest_index_norm`\n",
    "- `listing_price`\n",
    "\n",
    "    Geographical data:\n",
    "    - `lng` \n",
    "    - `lat`"
   ]
  },
  {
   "cell_type": "code",
   "execution_count": null,
   "id": "9b0b2524",
   "metadata": {},
   "outputs": [],
   "source": [
    "#Splitting numerical and categorical variables in two dataframes\n",
    "df_cat= airbnb_lisbon.loc[:, airbnb_lisbon.nunique() < 10]\n",
    "\n",
    "df_num = airbnb_lisbon.drop(columns=df_cat.columns)"
   ]
  },
  {
   "cell_type": "markdown",
   "id": "a725b970",
   "metadata": {},
   "source": [
    "<h3 style=\"color: #FF6B81;\">Statistical description (numerical variables)</h3>"
   ]
  },
  {
   "cell_type": "code",
   "execution_count": 49,
   "id": "386ab0cd",
   "metadata": {},
   "outputs": [
    {
     "data": {
      "text/html": [
       "<div>\n",
       "<style scoped>\n",
       "    .dataframe tbody tr th:only-of-type {\n",
       "        vertical-align: middle;\n",
       "    }\n",
       "\n",
       "    .dataframe tbody tr th {\n",
       "        vertical-align: top;\n",
       "    }\n",
       "\n",
       "    .dataframe thead th {\n",
       "        text-align: right;\n",
       "    }\n",
       "</style>\n",
       "<table border=\"1\" class=\"dataframe\">\n",
       "  <thead>\n",
       "    <tr style=\"text-align: right;\">\n",
       "      <th></th>\n",
       "      <th>count</th>\n",
       "      <th>mean</th>\n",
       "      <th>std</th>\n",
       "      <th>min</th>\n",
       "      <th>25%</th>\n",
       "      <th>50%</th>\n",
       "      <th>75%</th>\n",
       "      <th>max</th>\n",
       "    </tr>\n",
       "  </thead>\n",
       "  <tbody>\n",
       "    <tr>\n",
       "      <th>guest_satisfaction_overall</th>\n",
       "      <td>5763.0</td>\n",
       "      <td>91.09</td>\n",
       "      <td>9.15</td>\n",
       "      <td>20.00</td>\n",
       "      <td>88.00</td>\n",
       "      <td>93.00</td>\n",
       "      <td>97.00</td>\n",
       "      <td>100.00</td>\n",
       "    </tr>\n",
       "    <tr>\n",
       "      <th>dist</th>\n",
       "      <td>5763.0</td>\n",
       "      <td>1.97</td>\n",
       "      <td>1.74</td>\n",
       "      <td>0.04</td>\n",
       "      <td>0.81</td>\n",
       "      <td>1.39</td>\n",
       "      <td>2.44</td>\n",
       "      <td>9.57</td>\n",
       "    </tr>\n",
       "    <tr>\n",
       "      <th>metro_dist</th>\n",
       "      <td>5763.0</td>\n",
       "      <td>0.71</td>\n",
       "      <td>0.92</td>\n",
       "      <td>0.01</td>\n",
       "      <td>0.29</td>\n",
       "      <td>0.45</td>\n",
       "      <td>0.67</td>\n",
       "      <td>6.16</td>\n",
       "    </tr>\n",
       "    <tr>\n",
       "      <th>attr_index_norm</th>\n",
       "      <td>5763.0</td>\n",
       "      <td>7.32</td>\n",
       "      <td>5.08</td>\n",
       "      <td>1.36</td>\n",
       "      <td>3.77</td>\n",
       "      <td>5.54</td>\n",
       "      <td>10.02</td>\n",
       "      <td>100.00</td>\n",
       "    </tr>\n",
       "    <tr>\n",
       "      <th>rest_index_norm</th>\n",
       "      <td>5763.0</td>\n",
       "      <td>28.27</td>\n",
       "      <td>17.88</td>\n",
       "      <td>3.35</td>\n",
       "      <td>14.99</td>\n",
       "      <td>24.27</td>\n",
       "      <td>37.82</td>\n",
       "      <td>100.00</td>\n",
       "    </tr>\n",
       "    <tr>\n",
       "      <th>lng</th>\n",
       "      <td>5763.0</td>\n",
       "      <td>-9.14</td>\n",
       "      <td>0.02</td>\n",
       "      <td>-9.23</td>\n",
       "      <td>-9.15</td>\n",
       "      <td>-9.14</td>\n",
       "      <td>-9.13</td>\n",
       "      <td>-9.09</td>\n",
       "    </tr>\n",
       "    <tr>\n",
       "      <th>lat</th>\n",
       "      <td>5763.0</td>\n",
       "      <td>38.72</td>\n",
       "      <td>0.02</td>\n",
       "      <td>38.69</td>\n",
       "      <td>38.71</td>\n",
       "      <td>38.72</td>\n",
       "      <td>38.73</td>\n",
       "      <td>38.79</td>\n",
       "    </tr>\n",
       "    <tr>\n",
       "      <th>listing_price</th>\n",
       "      <td>5763.0</td>\n",
       "      <td>238.21</td>\n",
       "      <td>108.97</td>\n",
       "      <td>70.59</td>\n",
       "      <td>160.18</td>\n",
       "      <td>225.38</td>\n",
       "      <td>286.35</td>\n",
       "      <td>1681.05</td>\n",
       "    </tr>\n",
       "  </tbody>\n",
       "</table>\n",
       "</div>"
      ],
      "text/plain": [
       "                             count    mean     std    min     25%     50%  \\\n",
       "guest_satisfaction_overall  5763.0   91.09    9.15  20.00   88.00   93.00   \n",
       "dist                        5763.0    1.97    1.74   0.04    0.81    1.39   \n",
       "metro_dist                  5763.0    0.71    0.92   0.01    0.29    0.45   \n",
       "attr_index_norm             5763.0    7.32    5.08   1.36    3.77    5.54   \n",
       "rest_index_norm             5763.0   28.27   17.88   3.35   14.99   24.27   \n",
       "lng                         5763.0   -9.14    0.02  -9.23   -9.15   -9.14   \n",
       "lat                         5763.0   38.72    0.02  38.69   38.71   38.72   \n",
       "listing_price               5763.0  238.21  108.97  70.59  160.18  225.38   \n",
       "\n",
       "                               75%      max  \n",
       "guest_satisfaction_overall   97.00   100.00  \n",
       "dist                          2.44     9.57  \n",
       "metro_dist                    0.67     6.16  \n",
       "attr_index_norm              10.02   100.00  \n",
       "rest_index_norm              37.82   100.00  \n",
       "lng                          -9.13    -9.09  \n",
       "lat                          38.73    38.79  \n",
       "listing_price               286.35  1681.05  "
      ]
     },
     "execution_count": 49,
     "metadata": {},
     "output_type": "execute_result"
    }
   ],
   "source": [
    "df_num.describe().T.round(2)"
   ]
  },
  {
   "cell_type": "markdown",
   "id": "4ca48a39",
   "metadata": {},
   "source": [
    "<h3 style=\"color: #FF6B81;\">Categorical vs Categorical</h3>"
   ]
  },
  {
   "cell_type": "code",
   "execution_count": 86,
   "id": "ba8f095b",
   "metadata": {},
   "outputs": [
    {
     "data": {
      "text/html": [
       "<div>\n",
       "<style scoped>\n",
       "    .dataframe tbody tr th:only-of-type {\n",
       "        vertical-align: middle;\n",
       "    }\n",
       "\n",
       "    .dataframe tbody tr th {\n",
       "        vertical-align: top;\n",
       "    }\n",
       "\n",
       "    .dataframe thead th {\n",
       "        text-align: right;\n",
       "    }\n",
       "</style>\n",
       "<table border=\"1\" class=\"dataframe\">\n",
       "  <thead>\n",
       "    <tr style=\"text-align: right;\">\n",
       "      <th>host_is_superhost</th>\n",
       "      <th>0</th>\n",
       "      <th>1</th>\n",
       "    </tr>\n",
       "    <tr>\n",
       "      <th>cleanliness_rating</th>\n",
       "      <th></th>\n",
       "      <th></th>\n",
       "    </tr>\n",
       "  </thead>\n",
       "  <tbody>\n",
       "    <tr>\n",
       "      <th>2</th>\n",
       "      <td>13</td>\n",
       "      <td>0</td>\n",
       "    </tr>\n",
       "    <tr>\n",
       "      <th>3</th>\n",
       "      <td>4</td>\n",
       "      <td>0</td>\n",
       "    </tr>\n",
       "    <tr>\n",
       "      <th>4</th>\n",
       "      <td>7</td>\n",
       "      <td>2</td>\n",
       "    </tr>\n",
       "    <tr>\n",
       "      <th>5</th>\n",
       "      <td>7</td>\n",
       "      <td>0</td>\n",
       "    </tr>\n",
       "    <tr>\n",
       "      <th>6</th>\n",
       "      <td>65</td>\n",
       "      <td>0</td>\n",
       "    </tr>\n",
       "    <tr>\n",
       "      <th>7</th>\n",
       "      <td>79</td>\n",
       "      <td>2</td>\n",
       "    </tr>\n",
       "    <tr>\n",
       "      <th>8</th>\n",
       "      <td>494</td>\n",
       "      <td>8</td>\n",
       "    </tr>\n",
       "    <tr>\n",
       "      <th>9</th>\n",
       "      <td>1750</td>\n",
       "      <td>149</td>\n",
       "    </tr>\n",
       "    <tr>\n",
       "      <th>10</th>\n",
       "      <td>2111</td>\n",
       "      <td>1072</td>\n",
       "    </tr>\n",
       "  </tbody>\n",
       "</table>\n",
       "</div>"
      ],
      "text/plain": [
       "host_is_superhost      0     1\n",
       "cleanliness_rating            \n",
       "2                     13     0\n",
       "3                      4     0\n",
       "4                      7     2\n",
       "5                      7     0\n",
       "6                     65     0\n",
       "7                     79     2\n",
       "8                    494     8\n",
       "9                   1750   149\n",
       "10                  2111  1072"
      ]
     },
     "execution_count": 86,
     "metadata": {},
     "output_type": "execute_result"
    }
   ],
   "source": [
    "# Cleanliness rating frequency by super_host condition\n",
    "crosstab_clean_host = pd.crosstab(airbnb_lisbon[\"cleanliness_rating\"], airbnb_lisbon[\"host_is_superhost\"])\n",
    "crosstab_clean_host"
   ]
  },
  {
   "cell_type": "code",
   "execution_count": 87,
   "id": "61e04a6d",
   "metadata": {},
   "outputs": [
    {
     "data": {
      "text/html": [
       "<div>\n",
       "<style scoped>\n",
       "    .dataframe tbody tr th:only-of-type {\n",
       "        vertical-align: middle;\n",
       "    }\n",
       "\n",
       "    .dataframe tbody tr th {\n",
       "        vertical-align: top;\n",
       "    }\n",
       "\n",
       "    .dataframe thead th {\n",
       "        text-align: right;\n",
       "    }\n",
       "</style>\n",
       "<table border=\"1\" class=\"dataframe\">\n",
       "  <thead>\n",
       "    <tr style=\"text-align: right;\">\n",
       "      <th>room_type</th>\n",
       "      <th>Entire home/apt</th>\n",
       "      <th>Private room</th>\n",
       "      <th>Shared room</th>\n",
       "    </tr>\n",
       "    <tr>\n",
       "      <th>cleanliness_rating</th>\n",
       "      <th></th>\n",
       "      <th></th>\n",
       "      <th></th>\n",
       "    </tr>\n",
       "  </thead>\n",
       "  <tbody>\n",
       "    <tr>\n",
       "      <th>2</th>\n",
       "      <td>9</td>\n",
       "      <td>2</td>\n",
       "      <td>2</td>\n",
       "    </tr>\n",
       "    <tr>\n",
       "      <th>3</th>\n",
       "      <td>0</td>\n",
       "      <td>4</td>\n",
       "      <td>0</td>\n",
       "    </tr>\n",
       "    <tr>\n",
       "      <th>4</th>\n",
       "      <td>5</td>\n",
       "      <td>0</td>\n",
       "      <td>4</td>\n",
       "    </tr>\n",
       "    <tr>\n",
       "      <th>5</th>\n",
       "      <td>5</td>\n",
       "      <td>2</td>\n",
       "      <td>0</td>\n",
       "    </tr>\n",
       "    <tr>\n",
       "      <th>6</th>\n",
       "      <td>33</td>\n",
       "      <td>32</td>\n",
       "      <td>0</td>\n",
       "    </tr>\n",
       "    <tr>\n",
       "      <th>7</th>\n",
       "      <td>41</td>\n",
       "      <td>38</td>\n",
       "      <td>2</td>\n",
       "    </tr>\n",
       "    <tr>\n",
       "      <th>8</th>\n",
       "      <td>255</td>\n",
       "      <td>238</td>\n",
       "      <td>9</td>\n",
       "    </tr>\n",
       "    <tr>\n",
       "      <th>9</th>\n",
       "      <td>1301</td>\n",
       "      <td>569</td>\n",
       "      <td>29</td>\n",
       "    </tr>\n",
       "    <tr>\n",
       "      <th>10</th>\n",
       "      <td>2229</td>\n",
       "      <td>926</td>\n",
       "      <td>28</td>\n",
       "    </tr>\n",
       "  </tbody>\n",
       "</table>\n",
       "</div>"
      ],
      "text/plain": [
       "room_type           Entire home/apt  Private room  Shared room\n",
       "cleanliness_rating                                            \n",
       "2                                 9             2            2\n",
       "3                                 0             4            0\n",
       "4                                 5             0            4\n",
       "5                                 5             2            0\n",
       "6                                33            32            0\n",
       "7                                41            38            2\n",
       "8                               255           238            9\n",
       "9                              1301           569           29\n",
       "10                             2229           926           28"
      ]
     },
     "execution_count": 87,
     "metadata": {},
     "output_type": "execute_result"
    }
   ],
   "source": [
    "# Cleanliness rating frequency by room type\n",
    "crosstab_clean_room = pd.crosstab(airbnb_lisbon[\"cleanliness_rating\"], airbnb_lisbon[\"room_type\"])\n",
    "crosstab_clean_room"
   ]
  },
  {
   "cell_type": "code",
   "execution_count": 88,
   "id": "bc702305",
   "metadata": {},
   "outputs": [
    {
     "data": {
      "text/html": [
       "<div>\n",
       "<style scoped>\n",
       "    .dataframe tbody tr th:only-of-type {\n",
       "        vertical-align: middle;\n",
       "    }\n",
       "\n",
       "    .dataframe tbody tr th {\n",
       "        vertical-align: top;\n",
       "    }\n",
       "\n",
       "    .dataframe thead th {\n",
       "        text-align: right;\n",
       "    }\n",
       "</style>\n",
       "<table border=\"1\" class=\"dataframe\">\n",
       "  <thead>\n",
       "    <tr style=\"text-align: right;\">\n",
       "      <th>person_capacity</th>\n",
       "      <th>2</th>\n",
       "      <th>3</th>\n",
       "      <th>4</th>\n",
       "      <th>5</th>\n",
       "      <th>6</th>\n",
       "    </tr>\n",
       "    <tr>\n",
       "      <th>cleanliness_rating</th>\n",
       "      <th></th>\n",
       "      <th></th>\n",
       "      <th></th>\n",
       "      <th></th>\n",
       "      <th></th>\n",
       "    </tr>\n",
       "  </thead>\n",
       "  <tbody>\n",
       "    <tr>\n",
       "      <th>2</th>\n",
       "      <td>0</td>\n",
       "      <td>2</td>\n",
       "      <td>7</td>\n",
       "      <td>0</td>\n",
       "      <td>4</td>\n",
       "    </tr>\n",
       "    <tr>\n",
       "      <th>3</th>\n",
       "      <td>4</td>\n",
       "      <td>0</td>\n",
       "      <td>0</td>\n",
       "      <td>0</td>\n",
       "      <td>0</td>\n",
       "    </tr>\n",
       "    <tr>\n",
       "      <th>4</th>\n",
       "      <td>0</td>\n",
       "      <td>7</td>\n",
       "      <td>2</td>\n",
       "      <td>0</td>\n",
       "      <td>0</td>\n",
       "    </tr>\n",
       "    <tr>\n",
       "      <th>5</th>\n",
       "      <td>2</td>\n",
       "      <td>2</td>\n",
       "      <td>3</td>\n",
       "      <td>0</td>\n",
       "      <td>0</td>\n",
       "    </tr>\n",
       "    <tr>\n",
       "      <th>6</th>\n",
       "      <td>32</td>\n",
       "      <td>8</td>\n",
       "      <td>21</td>\n",
       "      <td>2</td>\n",
       "      <td>2</td>\n",
       "    </tr>\n",
       "    <tr>\n",
       "      <th>7</th>\n",
       "      <td>39</td>\n",
       "      <td>3</td>\n",
       "      <td>27</td>\n",
       "      <td>5</td>\n",
       "      <td>7</td>\n",
       "    </tr>\n",
       "    <tr>\n",
       "      <th>8</th>\n",
       "      <td>276</td>\n",
       "      <td>56</td>\n",
       "      <td>104</td>\n",
       "      <td>23</td>\n",
       "      <td>43</td>\n",
       "    </tr>\n",
       "    <tr>\n",
       "      <th>9</th>\n",
       "      <td>744</td>\n",
       "      <td>251</td>\n",
       "      <td>552</td>\n",
       "      <td>125</td>\n",
       "      <td>227</td>\n",
       "    </tr>\n",
       "    <tr>\n",
       "      <th>10</th>\n",
       "      <td>1244</td>\n",
       "      <td>355</td>\n",
       "      <td>1073</td>\n",
       "      <td>161</td>\n",
       "      <td>350</td>\n",
       "    </tr>\n",
       "  </tbody>\n",
       "</table>\n",
       "</div>"
      ],
      "text/plain": [
       "person_capacity        2    3     4    5    6\n",
       "cleanliness_rating                           \n",
       "2                      0    2     7    0    4\n",
       "3                      4    0     0    0    0\n",
       "4                      0    7     2    0    0\n",
       "5                      2    2     3    0    0\n",
       "6                     32    8    21    2    2\n",
       "7                     39    3    27    5    7\n",
       "8                    276   56   104   23   43\n",
       "9                    744  251   552  125  227\n",
       "10                  1244  355  1073  161  350"
      ]
     },
     "execution_count": 88,
     "metadata": {},
     "output_type": "execute_result"
    }
   ],
   "source": [
    "# Cleanliness rating frequency by person capacity\n",
    "crosstab_clean_capacity = pd.crosstab(airbnb_lisbon[\"cleanliness_rating\"], airbnb_lisbon[\"person_capacity\"])\n",
    "crosstab_clean_capacity"
   ]
  },
  {
   "cell_type": "code",
   "execution_count": 89,
   "id": "3801275d",
   "metadata": {},
   "outputs": [
    {
     "data": {
      "text/html": [
       "<div>\n",
       "<style scoped>\n",
       "    .dataframe tbody tr th:only-of-type {\n",
       "        vertical-align: middle;\n",
       "    }\n",
       "\n",
       "    .dataframe tbody tr th {\n",
       "        vertical-align: top;\n",
       "    }\n",
       "\n",
       "    .dataframe thead th {\n",
       "        text-align: right;\n",
       "    }\n",
       "</style>\n",
       "<table border=\"1\" class=\"dataframe\">\n",
       "  <thead>\n",
       "    <tr style=\"text-align: right;\">\n",
       "      <th>host_is_superhost</th>\n",
       "      <th>0</th>\n",
       "      <th>1</th>\n",
       "    </tr>\n",
       "    <tr>\n",
       "      <th>room_type</th>\n",
       "      <th></th>\n",
       "      <th></th>\n",
       "    </tr>\n",
       "  </thead>\n",
       "  <tbody>\n",
       "    <tr>\n",
       "      <th>Entire home/apt</th>\n",
       "      <td>2978</td>\n",
       "      <td>900</td>\n",
       "    </tr>\n",
       "    <tr>\n",
       "      <th>Private room</th>\n",
       "      <td>1492</td>\n",
       "      <td>319</td>\n",
       "    </tr>\n",
       "    <tr>\n",
       "      <th>Shared room</th>\n",
       "      <td>60</td>\n",
       "      <td>14</td>\n",
       "    </tr>\n",
       "  </tbody>\n",
       "</table>\n",
       "</div>"
      ],
      "text/plain": [
       "host_is_superhost     0    1\n",
       "room_type                   \n",
       "Entire home/apt    2978  900\n",
       "Private room       1492  319\n",
       "Shared room          60   14"
      ]
     },
     "execution_count": 89,
     "metadata": {},
     "output_type": "execute_result"
    }
   ],
   "source": [
    "# Room type frequency by super_host condition\n",
    "crosstab_room_host = pd.crosstab(airbnb_lisbon[\"room_type\"], airbnb_lisbon[\"host_is_superhost\"])\n",
    "crosstab_room_host"
   ]
  },
  {
   "cell_type": "markdown",
   "id": "1222511d",
   "metadata": {},
   "source": [
    "##### Chi-square tests\n",
    "\n",
    "Now let´s evaluate whether there is a significant association between the different categorical variables presented in crosstab frequencies. In other words, let's evaluate whether we can reject the null hypothesis which states that the variables are independent."
   ]
  },
  {
   "cell_type": "code",
   "execution_count": 90,
   "id": "ec20063c",
   "metadata": {},
   "outputs": [],
   "source": [
    "crosstab_results = [crosstab_clean_host, crosstab_clean_room, crosstab_clean_capacity, crosstab_room_host]"
   ]
  },
  {
   "cell_type": "code",
   "execution_count": 95,
   "id": "40940aba",
   "metadata": {},
   "outputs": [
    {
     "name": "stdout",
     "output_type": "stream",
     "text": [
      "p-value is 2.0713496927190733e-135\n",
      "p-value is 1.8601164370012524e-46\n",
      "p-value is 7.164859143880844e-16\n",
      "p-value is 8.994563069235146e-06\n"
     ]
    }
   ],
   "source": [
    "for crosstabs in crosstab_results:\n",
    "    chi2_stats, chi2_pvalue, _, _ = chi2_contingency(crosstabs)\n",
    "    print(f\"p-value is {chi2_pvalue}\")"
   ]
  },
  {
   "cell_type": "markdown",
   "id": "e73a436f",
   "metadata": {},
   "source": [
    "From the low p-values for all the 4 crosstabs we may infer that we have enough evidence to reject that there is independence between:\n",
    "- `cleanliness_rating` and `host_is_superhost`;\n",
    "- `cleanliness_rating` and `room_type`;\n",
    "- `cleanliness_rating` and `person_capacity`;\n",
    "- `room_type`and `host_is_superhost`;"
   ]
  },
  {
   "cell_type": "markdown",
   "id": "bd7be5b3",
   "metadata": {},
   "source": [
    "##### Cramér's V"
   ]
  },
  {
   "cell_type": "code",
   "execution_count": null,
   "id": "c575483e",
   "metadata": {},
   "outputs": [
    {
     "name": "stdout",
     "output_type": "stream",
     "text": [
      "0.3361994500947648\n",
      "0.150740773468755\n",
      "0.07858722448200578\n",
      "0.06349989586449292\n"
     ]
    }
   ],
   "source": [
    "for crosstabs in crosstab_results:\n",
    "    print(association(crosstabs, method=\"cramer\"))    "
   ]
  },
  {
   "cell_type": "markdown",
   "id": "5d8d7846",
   "metadata": {},
   "source": [
    "<h3 style=\"color: #FF6B81;\">Categorical vs listing price price</h3>"
   ]
  },
  {
   "cell_type": "code",
   "execution_count": null,
   "id": "64fb182c",
   "metadata": {},
   "outputs": [
    {
     "data": {
      "text/html": [
       "<div>\n",
       "<style scoped>\n",
       "    .dataframe tbody tr th:only-of-type {\n",
       "        vertical-align: middle;\n",
       "    }\n",
       "\n",
       "    .dataframe tbody tr th {\n",
       "        vertical-align: top;\n",
       "    }\n",
       "\n",
       "    .dataframe thead th {\n",
       "        text-align: right;\n",
       "    }\n",
       "</style>\n",
       "<table border=\"1\" class=\"dataframe\">\n",
       "  <thead>\n",
       "    <tr style=\"text-align: right;\">\n",
       "      <th></th>\n",
       "      <th>weekend</th>\n",
       "      <th>listing_price</th>\n",
       "    </tr>\n",
       "  </thead>\n",
       "  <tbody>\n",
       "    <tr>\n",
       "      <th>0</th>\n",
       "      <td>0</td>\n",
       "      <td>236.35</td>\n",
       "    </tr>\n",
       "    <tr>\n",
       "      <th>1</th>\n",
       "      <td>1</td>\n",
       "      <td>240.04</td>\n",
       "    </tr>\n",
       "  </tbody>\n",
       "</table>\n",
       "</div>"
      ],
      "text/plain": [
       "   weekend  listing_price\n",
       "0        0         236.35\n",
       "1        1         240.04"
      ]
     },
     "execution_count": 51,
     "metadata": {},
     "output_type": "execute_result"
    }
   ],
   "source": [
    "#Checking average prices differences between weekdays and weekends bookings\n",
    "round(airbnb_lisbon.groupby(\"weekend\")[\"listing_price\"].mean().reset_index(), 2)"
   ]
  },
  {
   "cell_type": "code",
   "execution_count": null,
   "id": "bed2816d",
   "metadata": {},
   "outputs": [
    {
     "data": {
      "text/html": [
       "<div>\n",
       "<style scoped>\n",
       "    .dataframe tbody tr th:only-of-type {\n",
       "        vertical-align: middle;\n",
       "    }\n",
       "\n",
       "    .dataframe tbody tr th {\n",
       "        vertical-align: top;\n",
       "    }\n",
       "\n",
       "    .dataframe thead th {\n",
       "        text-align: right;\n",
       "    }\n",
       "</style>\n",
       "<table border=\"1\" class=\"dataframe\">\n",
       "  <thead>\n",
       "    <tr style=\"text-align: right;\">\n",
       "      <th></th>\n",
       "      <th>room_type</th>\n",
       "      <th>listing_price</th>\n",
       "    </tr>\n",
       "  </thead>\n",
       "  <tbody>\n",
       "    <tr>\n",
       "      <th>0</th>\n",
       "      <td>Entire home/apt</td>\n",
       "      <td>282.50</td>\n",
       "    </tr>\n",
       "    <tr>\n",
       "      <th>1</th>\n",
       "      <td>Private room</td>\n",
       "      <td>148.90</td>\n",
       "    </tr>\n",
       "    <tr>\n",
       "      <th>2</th>\n",
       "      <td>Shared room</td>\n",
       "      <td>103.06</td>\n",
       "    </tr>\n",
       "  </tbody>\n",
       "</table>\n",
       "</div>"
      ],
      "text/plain": [
       "         room_type  listing_price\n",
       "0  Entire home/apt         282.50\n",
       "1     Private room         148.90\n",
       "2      Shared room         103.06"
      ]
     },
     "execution_count": 55,
     "metadata": {},
     "output_type": "execute_result"
    }
   ],
   "source": [
    "#Checking average prices differences between room types\n",
    "round(airbnb_lisbon.groupby(\"room_type\")[\"listing_price\"].mean().reset_index(), 2)"
   ]
  },
  {
   "cell_type": "code",
   "execution_count": null,
   "id": "6c2de0a2",
   "metadata": {},
   "outputs": [
    {
     "data": {
      "text/html": [
       "<div>\n",
       "<style scoped>\n",
       "    .dataframe tbody tr th:only-of-type {\n",
       "        vertical-align: middle;\n",
       "    }\n",
       "\n",
       "    .dataframe tbody tr th {\n",
       "        vertical-align: top;\n",
       "    }\n",
       "\n",
       "    .dataframe thead th {\n",
       "        text-align: right;\n",
       "    }\n",
       "</style>\n",
       "<table border=\"1\" class=\"dataframe\">\n",
       "  <thead>\n",
       "    <tr style=\"text-align: right;\">\n",
       "      <th></th>\n",
       "      <th>host_is_superhost</th>\n",
       "      <th>listing_price</th>\n",
       "    </tr>\n",
       "  </thead>\n",
       "  <tbody>\n",
       "    <tr>\n",
       "      <th>0</th>\n",
       "      <td>0</td>\n",
       "      <td>234.01</td>\n",
       "    </tr>\n",
       "    <tr>\n",
       "      <th>1</th>\n",
       "      <td>1</td>\n",
       "      <td>253.66</td>\n",
       "    </tr>\n",
       "  </tbody>\n",
       "</table>\n",
       "</div>"
      ],
      "text/plain": [
       "   host_is_superhost  listing_price\n",
       "0                  0         234.01\n",
       "1                  1         253.66"
      ]
     },
     "execution_count": 56,
     "metadata": {},
     "output_type": "execute_result"
    }
   ],
   "source": [
    "#Checking average prices differences between superhost and non-superhost\n",
    "round(airbnb_lisbon.groupby(\"host_is_superhost\")[\"listing_price\"].mean().reset_index(), 2)"
   ]
  },
  {
   "cell_type": "code",
   "execution_count": null,
   "id": "331d8b5d",
   "metadata": {},
   "outputs": [
    {
     "data": {
      "text/html": [
       "<div>\n",
       "<style scoped>\n",
       "    .dataframe tbody tr th:only-of-type {\n",
       "        vertical-align: middle;\n",
       "    }\n",
       "\n",
       "    .dataframe tbody tr th {\n",
       "        vertical-align: top;\n",
       "    }\n",
       "\n",
       "    .dataframe thead th {\n",
       "        text-align: right;\n",
       "    }\n",
       "</style>\n",
       "<table border=\"1\" class=\"dataframe\">\n",
       "  <thead>\n",
       "    <tr style=\"text-align: right;\">\n",
       "      <th></th>\n",
       "      <th>cleanliness_rating</th>\n",
       "      <th>listing_price</th>\n",
       "    </tr>\n",
       "  </thead>\n",
       "  <tbody>\n",
       "    <tr>\n",
       "      <th>0</th>\n",
       "      <td>2</td>\n",
       "      <td>230.63</td>\n",
       "    </tr>\n",
       "    <tr>\n",
       "      <th>1</th>\n",
       "      <td>3</td>\n",
       "      <td>120.37</td>\n",
       "    </tr>\n",
       "    <tr>\n",
       "      <th>2</th>\n",
       "      <td>4</td>\n",
       "      <td>223.16</td>\n",
       "    </tr>\n",
       "    <tr>\n",
       "      <th>3</th>\n",
       "      <td>5</td>\n",
       "      <td>202.12</td>\n",
       "    </tr>\n",
       "    <tr>\n",
       "      <th>4</th>\n",
       "      <td>6</td>\n",
       "      <td>214.50</td>\n",
       "    </tr>\n",
       "    <tr>\n",
       "      <th>5</th>\n",
       "      <td>7</td>\n",
       "      <td>219.34</td>\n",
       "    </tr>\n",
       "    <tr>\n",
       "      <th>6</th>\n",
       "      <td>8</td>\n",
       "      <td>196.16</td>\n",
       "    </tr>\n",
       "    <tr>\n",
       "      <th>7</th>\n",
       "      <td>9</td>\n",
       "      <td>226.41</td>\n",
       "    </tr>\n",
       "    <tr>\n",
       "      <th>8</th>\n",
       "      <td>10</td>\n",
       "      <td>253.15</td>\n",
       "    </tr>\n",
       "  </tbody>\n",
       "</table>\n",
       "</div>"
      ],
      "text/plain": [
       "   cleanliness_rating  listing_price\n",
       "0                   2         230.63\n",
       "1                   3         120.37\n",
       "2                   4         223.16\n",
       "3                   5         202.12\n",
       "4                   6         214.50\n",
       "5                   7         219.34\n",
       "6                   8         196.16\n",
       "7                   9         226.41\n",
       "8                  10         253.15"
      ]
     },
     "execution_count": 60,
     "metadata": {},
     "output_type": "execute_result"
    }
   ],
   "source": [
    "#Checking average prices differences between cleanliness_rating\n",
    "round(airbnb_lisbon.groupby(\"cleanliness_rating\")[\"listing_price\"].mean().reset_index(), 2)"
   ]
  },
  {
   "cell_type": "code",
   "execution_count": null,
   "id": "6f01dc23",
   "metadata": {},
   "outputs": [
    {
     "data": {
      "text/html": [
       "<div>\n",
       "<style scoped>\n",
       "    .dataframe tbody tr th:only-of-type {\n",
       "        vertical-align: middle;\n",
       "    }\n",
       "\n",
       "    .dataframe tbody tr th {\n",
       "        vertical-align: top;\n",
       "    }\n",
       "\n",
       "    .dataframe thead th {\n",
       "        text-align: right;\n",
       "    }\n",
       "</style>\n",
       "<table border=\"1\" class=\"dataframe\">\n",
       "  <thead>\n",
       "    <tr style=\"text-align: right;\">\n",
       "      <th></th>\n",
       "      <th>bedrooms</th>\n",
       "      <th>listing_price</th>\n",
       "    </tr>\n",
       "  </thead>\n",
       "  <tbody>\n",
       "    <tr>\n",
       "      <th>0</th>\n",
       "      <td>0</td>\n",
       "      <td>218.44</td>\n",
       "    </tr>\n",
       "    <tr>\n",
       "      <th>1</th>\n",
       "      <td>1</td>\n",
       "      <td>204.21</td>\n",
       "    </tr>\n",
       "    <tr>\n",
       "      <th>2</th>\n",
       "      <td>2</td>\n",
       "      <td>317.89</td>\n",
       "    </tr>\n",
       "    <tr>\n",
       "      <th>3</th>\n",
       "      <td>3</td>\n",
       "      <td>370.84</td>\n",
       "    </tr>\n",
       "    <tr>\n",
       "      <th>4</th>\n",
       "      <td>4</td>\n",
       "      <td>358.90</td>\n",
       "    </tr>\n",
       "    <tr>\n",
       "      <th>5</th>\n",
       "      <td>9</td>\n",
       "      <td>129.98</td>\n",
       "    </tr>\n",
       "    <tr>\n",
       "      <th>6</th>\n",
       "      <td>10</td>\n",
       "      <td>77.74</td>\n",
       "    </tr>\n",
       "  </tbody>\n",
       "</table>\n",
       "</div>"
      ],
      "text/plain": [
       "   bedrooms  listing_price\n",
       "0         0         218.44\n",
       "1         1         204.21\n",
       "2         2         317.89\n",
       "3         3         370.84\n",
       "4         4         358.90\n",
       "5         9         129.98\n",
       "6        10          77.74"
      ]
     },
     "execution_count": 58,
     "metadata": {},
     "output_type": "execute_result"
    }
   ],
   "source": [
    "#Checking average prices differences between number of bedrooms\n",
    "round(airbnb_lisbon.groupby(\"bedrooms\")[\"listing_price\"].mean().reset_index(), 2)"
   ]
  },
  {
   "cell_type": "markdown",
   "id": "a594365f-2341-4111-a874-0909c3cdaa6d",
   "metadata": {
    "tags": []
   },
   "source": [
    "<h2 style=\"color: #008080;\">Selecting numerical</h2>"
   ]
  },
  {
   "cell_type": "markdown",
   "id": "bdd253b9-9f65-41cf-ba40-315c7996f19e",
   "metadata": {
    "tags": []
   },
   "source": [
    "<h2 style=\"color: #008080;\">Checking Distributions</h2>"
   ]
  },
  {
   "cell_type": "markdown",
   "id": "0f776717",
   "metadata": {
    "tags": []
   },
   "source": [
    "<h2 style=\"color: #008080;\">Checking Outliers (continous numbers)</h2>"
   ]
  },
  {
   "cell_type": "markdown",
   "id": "44546062",
   "metadata": {},
   "source": [
    "<h2 style=\"color: #008080;\">Checking Outliers (discrete numbers)</h2>"
   ]
  },
  {
   "cell_type": "markdown",
   "id": "5c3ccc4b-610a-4da3-bbec-77ad8e1a340d",
   "metadata": {
    "tags": []
   },
   "source": [
    "<h2 style=\"color: #008080;\">Looking for Correlations</h2>"
   ]
  },
  {
   "cell_type": "markdown",
   "id": "2500ae58-541b-4aed-bb65-0ae83e83744b",
   "metadata": {},
   "source": [
    "<h1 style=\"color: #00BFFF;\">04 | Data Processing</h1>"
   ]
  },
  {
   "cell_type": "markdown",
   "id": "962091ba-0828-4428-8ed2-7735f4164e78",
   "metadata": {},
   "source": [
    "<h2 style=\"color: #008080;\">X-Y Split</h2>"
   ]
  },
  {
   "cell_type": "markdown",
   "id": "bf53c008-e656-41e3-9c59-63f985b32bae",
   "metadata": {
    "tags": []
   },
   "source": [
    "<h2 style=\"color: #008080;\">Normalizing the Data</h2>"
   ]
  },
  {
   "cell_type": "markdown",
   "id": "c9135f41-5016-482d-8e0c-c49023c9ae50",
   "metadata": {
    "tags": []
   },
   "source": [
    "<h1 style=\"color: #00BFFF;\">05 | Modeling</h1>"
   ]
  },
  {
   "cell_type": "markdown",
   "id": "7f81348e-f517-477c-badf-7d4e38cbb5e2",
   "metadata": {},
   "source": [
    "<h2 style=\"color: #008080;\">Train-Test Split</h2>"
   ]
  },
  {
   "cell_type": "markdown",
   "id": "e5afc04f-ffed-4e93-b4e8-d43562717ace",
   "metadata": {},
   "source": [
    "<h2 style=\"color: #008080;\">Model Validation</h2>"
   ]
  },
  {
   "cell_type": "markdown",
   "id": "76ca3f20-b395-4e33-b267-5421a00c7712",
   "metadata": {
    "tags": []
   },
   "source": [
    "<h1 style=\"color: #00BFFF;\">06 | Improving the Model</h1>"
   ]
  },
  {
   "cell_type": "markdown",
   "id": "1a9a1325-cbf7-414d-b39e-41824d11e7f5",
   "metadata": {},
   "source": [
    "<h1 style=\"color: #00BFFF;\">07 | Reporting</h1>"
   ]
  }
 ],
 "metadata": {
  "kernelspec": {
   "display_name": "base",
   "language": "python",
   "name": "python3"
  },
  "language_info": {
   "codemirror_mode": {
    "name": "ipython",
    "version": 3
   },
   "file_extension": ".py",
   "mimetype": "text/x-python",
   "name": "python",
   "nbconvert_exporter": "python",
   "pygments_lexer": "ipython3",
   "version": "3.12.4"
  }
 },
 "nbformat": 4,
 "nbformat_minor": 5
}
